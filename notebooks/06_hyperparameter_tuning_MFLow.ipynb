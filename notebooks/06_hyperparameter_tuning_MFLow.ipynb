{
 "cells": [
  {
   "cell_type": "code",
   "execution_count": 1,
   "id": "e1420236",
   "metadata": {},
   "outputs": [
    {
     "name": "stdout",
     "output_type": "stream",
     "text": [
      "3.0.4\n"
     ]
    }
   ],
   "source": [
    "import xgboost as xgb\n",
    "print(xgb.__version__)"
   ]
  },
  {
   "cell_type": "code",
   "execution_count": 2,
   "id": "c005ffce",
   "metadata": {},
   "outputs": [
    {
     "name": "stdout",
     "output_type": "stream",
     "text": [
      "/Users/anojanyogenthiran/Projects/Regression_ML_EndtoEnd/.venv/bin/python\n",
      "3.0.4\n",
      "/Users/anojanyogenthiran/Projects/Regression_ML_EndtoEnd/.venv/lib/python3.11/site-packages/xgboost/__init__.py\n"
     ]
    }
   ],
   "source": [
    "import sys, xgboost as xgb\n",
    "print(sys.executable)        # should point to .../.venv/bin/python\n",
    "print(xgb.__version__)       # should print 3.0.4\n",
    "print(xgb.__file__)          # should live under .../.venv/..."
   ]
  },
  {
   "cell_type": "code",
   "execution_count": 3,
   "id": "e180e003",
   "metadata": {},
   "outputs": [
    {
     "name": "stderr",
     "output_type": "stream",
     "text": [
      "/Users/anojanyogenthiran/Projects/Regression_ML_EndtoEnd/.venv/lib/python3.11/site-packages/tqdm/auto.py:21: TqdmWarning: IProgress not found. Please update jupyter and ipywidgets. See https://ipywidgets.readthedocs.io/en/stable/user_install.html\n",
      "  from .autonotebook import tqdm as notebook_tqdm\n"
     ]
    }
   ],
   "source": [
    "# ==============================================\n",
    "# 1. Imports\n",
    "# ==============================================\n",
    "import pandas as pd\n",
    "import numpy as np\n",
    "from sklearn.metrics import mean_absolute_error, mean_squared_error, r2_score\n",
    "from xgboost import XGBRegressor\n",
    "import optuna\n",
    "import mlflow\n",
    "import mlflow.xgboost"
   ]
  },
  {
   "cell_type": "code",
   "execution_count": 4,
   "id": "9823538c",
   "metadata": {},
   "outputs": [
    {
     "name": "stdout",
     "output_type": "stream",
     "text": [
      "Train shape: (576815, 39)\n",
      "Eval shape: (148448, 39)\n"
     ]
    }
   ],
   "source": [
    "# ==============================================\n",
    "# 2. Load processed datasets\n",
    "# ==============================================\n",
    "train_df = pd.read_csv(\"/Users/anojanyogenthiran/Projects/Regression_ML_EndtoEnd/data/processed/feature_engineered_train.csv\")\n",
    "eval_df  = pd.read_csv(\"/Users/anojanyogenthiran/Projects/Regression_ML_EndtoEnd/data/processed/feature_engineered_eval.csv\")\n",
    "\n",
    "\n",
    "# Define target + features\n",
    "target = \"price\"\n",
    "X_train, y_train = train_df.drop(columns=[target]), train_df[target]\n",
    "X_eval, y_eval   = eval_df.drop(columns=[target]), eval_df[target]\n",
    "\n",
    "print(\"Train shape:\", X_train.shape)\n",
    "print(\"Eval shape:\", X_eval.shape)"
   ]
  },
  {
   "cell_type": "code",
   "execution_count": 5,
   "id": "20657aad",
   "metadata": {},
   "outputs": [],
   "source": [
    "# ==============================================\n",
    "# 3. Define Optuna objective function with MLflow\n",
    "# ==============================================\n",
    "def objective(trial):\n",
    "    params = {\n",
    "        \"n_estimators\": trial.suggest_int(\"n_estimators\", 200, 1000),\n",
    "        \"max_depth\": trial.suggest_int(\"max_depth\", 3, 10),\n",
    "        \"learning_rate\": trial.suggest_float(\"learning_rate\", 0.01, 0.3, log=True),\n",
    "        \"subsample\": trial.suggest_float(\"subsample\", 0.5, 1.0),\n",
    "        \"colsample_bytree\": trial.suggest_float(\"colsample_bytree\", 0.5, 1.0),\n",
    "        \"min_child_weight\": trial.suggest_int(\"min_child_weight\", 1, 10),\n",
    "        \"gamma\": trial.suggest_float(\"gamma\", 0.0, 5.0),\n",
    "        \"reg_alpha\": trial.suggest_float(\"reg_alpha\", 1e-8, 10.0, log=True),\n",
    "        \"reg_lambda\": trial.suggest_float(\"reg_lambda\", 1e-8, 10.0, log=True),\n",
    "        \"random_state\": 42,\n",
    "        \"n_jobs\": -1,\n",
    "        \"tree_method\": \"hist\",\n",
    "    }\n",
    "\n",
    "    with mlflow.start_run(nested=True):\n",
    "        model = XGBRegressor(**params)\n",
    "        model.fit(X_train, y_train)\n",
    "\n",
    "        y_pred = model.predict(X_eval)\n",
    "        rmse = float(np.sqrt(mean_squared_error(y_eval, y_pred)))\n",
    "        mae = float(mean_absolute_error(y_eval, y_pred))\n",
    "        r2 = float(r2_score(y_eval, y_pred))\n",
    "\n",
    "        # Log hyperparameters + metrics\n",
    "        mlflow.log_params(params)\n",
    "        mlflow.log_metrics({\"rmse\": rmse, \"mae\": mae, \"r2\": r2})\n",
    "\n",
    "    return rmse"
   ]
  },
  {
   "cell_type": "code",
   "execution_count": 7,
   "id": "023f5c82",
   "metadata": {},
   "outputs": [
    {
     "name": "stderr",
     "output_type": "stream",
     "text": [
      "2025/10/22 13:18:07 INFO mlflow.tracking.fluent: Experiment with name 'xgboost_optuna_housing' does not exist. Creating a new experiment.\n",
      "[I 2025-10-22 13:18:07,092] A new study created in memory with name: no-name-b419884c-df12-44f8-a724-31c57ac7abb6\n",
      "[I 2025-10-22 13:18:10,089] Trial 0 finished with value: 74356.33967978887 and parameters: {'n_estimators': 294, 'max_depth': 6, 'learning_rate': 0.13592351417931553, 'subsample': 0.912143523065494, 'colsample_bytree': 0.881759986335709, 'min_child_weight': 3, 'gamma': 2.4124952358212925, 'reg_alpha': 0.0025643515410558653, 'reg_lambda': 0.018290292265817725}. Best is trial 0 with value: 74356.33967978887.\n",
      "[I 2025-10-22 13:18:13,889] Trial 1 finished with value: 81605.87231827891 and parameters: {'n_estimators': 494, 'max_depth': 5, 'learning_rate': 0.015724870843386633, 'subsample': 0.5999689654776991, 'colsample_bytree': 0.9120752047687855, 'min_child_weight': 7, 'gamma': 2.7775250717613744, 'reg_alpha': 1.1631804644853676e-07, 'reg_lambda': 1.5054778714923758e-05}. Best is trial 0 with value: 74356.33967978887.\n",
      "[I 2025-10-22 13:18:18,574] Trial 2 finished with value: 72404.34788942274 and parameters: {'n_estimators': 530, 'max_depth': 7, 'learning_rate': 0.08497630977234036, 'subsample': 0.899540696134696, 'colsample_bytree': 0.9008024102600064, 'min_child_weight': 2, 'gamma': 0.47443375756121287, 'reg_alpha': 1.9007644753567179, 'reg_lambda': 0.507930896934942}. Best is trial 2 with value: 72404.34788942274.\n",
      "[I 2025-10-22 13:18:27,098] Trial 3 finished with value: 69605.16135259304 and parameters: {'n_estimators': 914, 'max_depth': 7, 'learning_rate': 0.01950143197613578, 'subsample': 0.7905423022382716, 'colsample_bytree': 0.7425721389228233, 'min_child_weight': 6, 'gamma': 2.7686497981350784, 'reg_alpha': 0.0008517108262827041, 'reg_lambda': 1.0050234208093405e-05}. Best is trial 3 with value: 69605.16135259304.\n",
      "[I 2025-10-22 13:18:28,583] Trial 4 finished with value: 76143.90758466964 and parameters: {'n_estimators': 308, 'max_depth': 3, 'learning_rate': 0.2935534428738045, 'subsample': 0.9050162143281553, 'colsample_bytree': 0.5093522446794956, 'min_child_weight': 4, 'gamma': 3.5446863482597077, 'reg_alpha': 2.50972305937353e-07, 'reg_lambda': 0.000335889226624108}. Best is trial 3 with value: 69605.16135259304.\n",
      "[I 2025-10-22 13:18:36,889] Trial 5 finished with value: 67686.90171236041 and parameters: {'n_estimators': 677, 'max_depth': 8, 'learning_rate': 0.1010207138934228, 'subsample': 0.952409862432931, 'colsample_bytree': 0.527530908186786, 'min_child_weight': 9, 'gamma': 4.97383547511298, 'reg_alpha': 3.964293234133539e-07, 'reg_lambda': 0.0003010627282414434}. Best is trial 5 with value: 67686.90171236041.\n",
      "[I 2025-10-22 13:18:39,886] Trial 6 finished with value: 69427.5488577737 and parameters: {'n_estimators': 229, 'max_depth': 7, 'learning_rate': 0.0513843575257093, 'subsample': 0.8527633583922987, 'colsample_bytree': 0.5967986666476683, 'min_child_weight': 1, 'gamma': 0.9903928035411208, 'reg_alpha': 1.0726046400070107e-06, 'reg_lambda': 3.1457093872699924e-05}. Best is trial 5 with value: 67686.90171236041.\n",
      "[I 2025-10-22 13:18:46,983] Trial 7 finished with value: 72966.58046428335 and parameters: {'n_estimators': 921, 'max_depth': 5, 'learning_rate': 0.037348273299375935, 'subsample': 0.5827130084058285, 'colsample_bytree': 0.7580305306883159, 'min_child_weight': 10, 'gamma': 2.6688859913589362, 'reg_alpha': 0.09450871280361796, 'reg_lambda': 0.09561654899467498}. Best is trial 5 with value: 67686.90171236041.\n",
      "[I 2025-10-22 13:18:49,651] Trial 8 finished with value: 76172.78749705302 and parameters: {'n_estimators': 281, 'max_depth': 5, 'learning_rate': 0.037457031452301955, 'subsample': 0.7436462051370023, 'colsample_bytree': 0.5865275742075046, 'min_child_weight': 2, 'gamma': 1.7453840992963832, 'reg_alpha': 0.8653938193033109, 'reg_lambda': 0.002242589824384903}. Best is trial 5 with value: 67686.90171236041.\n",
      "[I 2025-10-22 13:18:52,452] Trial 9 finished with value: 73461.49273169602 and parameters: {'n_estimators': 200, 'max_depth': 6, 'learning_rate': 0.07330419994978538, 'subsample': 0.7577380354462013, 'colsample_bytree': 0.7703363105023296, 'min_child_weight': 7, 'gamma': 2.691676268233895, 'reg_alpha': 4.326948573762218e-05, 'reg_lambda': 6.396148814168171e-06}. Best is trial 5 with value: 67686.90171236041.\n",
      "[I 2025-10-22 13:19:04,936] Trial 10 finished with value: 74838.85994325162 and parameters: {'n_estimators': 715, 'max_depth': 10, 'learning_rate': 0.18546807071298402, 'subsample': 0.9826233946236718, 'colsample_bytree': 0.6558763348099669, 'min_child_weight': 10, 'gamma': 4.910816838062899, 'reg_alpha': 1.260975637353256e-08, 'reg_lambda': 1.1013764175010992e-08}. Best is trial 5 with value: 67686.90171236041.\n",
      "[I 2025-10-22 13:19:15,578] Trial 11 finished with value: 68860.9310085764 and parameters: {'n_estimators': 693, 'max_depth': 9, 'learning_rate': 0.04751317179598659, 'subsample': 0.8336228769853249, 'colsample_bytree': 0.5244198602289896, 'min_child_weight': 8, 'gamma': 0.058737352912052176, 'reg_alpha': 5.381794887678925e-06, 'reg_lambda': 4.5514994074307277e-07}. Best is trial 5 with value: 67686.90171236041.\n",
      "[I 2025-10-22 13:19:25,163] Trial 12 finished with value: 69063.8524440848 and parameters: {'n_estimators': 739, 'max_depth': 9, 'learning_rate': 0.11868890224346097, 'subsample': 0.9972020806210052, 'colsample_bytree': 0.5124922811831576, 'min_child_weight': 8, 'gamma': 4.990246894535423, 'reg_alpha': 1.3982241621737168e-05, 'reg_lambda': 7.252732547279326e-08}. Best is trial 5 with value: 67686.90171236041.\n",
      "[I 2025-10-22 13:19:34,517] Trial 13 finished with value: 68316.68308995402 and parameters: {'n_estimators': 710, 'max_depth': 9, 'learning_rate': 0.02690538163879042, 'subsample': 0.6602492592192725, 'colsample_bytree': 0.6382286151082026, 'min_child_weight': 9, 'gamma': 3.9776703390248613, 'reg_alpha': 6.841573494573891e-06, 'reg_lambda': 2.3835513505190004e-07}. Best is trial 5 with value: 67686.90171236041.\n",
      "[I 2025-10-22 13:19:46,576] Trial 14 finished with value: 69496.29003096097 and parameters: {'n_estimators': 828, 'max_depth': 9, 'learning_rate': 0.010189138080525498, 'subsample': 0.6849958290932423, 'colsample_bytree': 0.6646000077178813, 'min_child_weight': 9, 'gamma': 4.020471394138681, 'reg_alpha': 8.848758210516964e-05, 'reg_lambda': 7.879639645913411}. Best is trial 5 with value: 67686.90171236041.\n"
     ]
    },
    {
     "name": "stdout",
     "output_type": "stream",
     "text": [
      "Best params: {'n_estimators': 677, 'max_depth': 8, 'learning_rate': 0.1010207138934228, 'subsample': 0.952409862432931, 'colsample_bytree': 0.527530908186786, 'min_child_weight': 9, 'gamma': 4.97383547511298, 'reg_alpha': 3.964293234133539e-07, 'reg_lambda': 0.0003010627282414434}\n"
     ]
    }
   ],
   "source": [
    "# ==============================================\n",
    "# 4. Run Optuna study with MLflow\n",
    "# ==============================================\n",
    "# Force MLflow to always use the root project mlruns folder\n",
    "mlflow.set_tracking_uri(\"/Users/anojanyogenthiran/Projects/Regression_ML_EndtoEnd/mlruns\")\n",
    "mlflow.set_experiment(\"xgboost_optuna_housing\")\n",
    "\n",
    "study = optuna.create_study(direction=\"minimize\")\n",
    "study.optimize(objective, n_trials=15)\n",
    "\n",
    "print(\"Best params:\", study.best_trial.params)"
   ]
  },
  {
   "cell_type": "code",
   "execution_count": 8,
   "id": "7aa49012",
   "metadata": {},
   "outputs": [
    {
     "name": "stdout",
     "output_type": "stream",
     "text": [
      "Final tuned model performance:\n",
      "MAE: 32280.925263265228\n",
      "RMSE: 73703.42169258003\n",
      "R²: 0.958020686495264\n"
     ]
    },
    {
     "name": "stderr",
     "output_type": "stream",
     "text": [
      "/Users/anojanyogenthiran/Projects/Regression_ML_EndtoEnd/.venv/lib/python3.11/site-packages/xgboost/sklearn.py:1028: UserWarning: [13:19:54] WARNING: /Users/runner/work/xgboost/xgboost/src/c_api/c_api.cc:1427: Saving model in the UBJSON format as default.  You can use file extension: `json`, `ubj` or `deprecated` to choose between formats.\n",
      "  self.get_booster().save_model(fname)\n",
      "2025/10/22 13:19:56 WARNING mlflow.utils.environment: Failed to resolve installed pip version. ``pip`` will be added to conda.yaml environment spec without a version specifier.\n",
      "\u001b[31m2025/10/22 13:19:56 WARNING mlflow.models.model: Model logged without a signature and input example. Please set `input_example` parameter when logging the model to auto infer the model signature.\u001b[0m\n"
     ]
    }
   ],
   "source": [
    "# ==============================================\n",
    "# 5. Train final model with best params and log to MLflow\n",
    "# ==============================================\n",
    "best_params = study.best_trial.params\n",
    "best_model = XGBRegressor(**best_params)\n",
    "best_model.fit(X_train, y_train)\n",
    "\n",
    "y_pred = best_model.predict(X_eval)\n",
    "\n",
    "mae = mean_absolute_error(y_eval, y_pred)\n",
    "rmse = np.sqrt(mean_squared_error(y_eval, y_pred))\n",
    "r2 = r2_score(y_eval, y_pred)\n",
    "\n",
    "print(\"Final tuned model performance:\")\n",
    "print(\"MAE:\", mae)\n",
    "print(\"RMSE:\", rmse)\n",
    "print(\"R²:\", r2)\n",
    "\n",
    "# Log final model\n",
    "with mlflow.start_run(run_name=\"best_xgboost_model\"):\n",
    "    mlflow.log_params(best_params)\n",
    "    mlflow.log_metrics({\"rmse\": rmse, \"mae\": mae, \"r2\": r2})\n",
    "    mlflow.xgboost.log_model(best_model, name=\"model\")"
   ]
  }
 ],
 "metadata": {
  "kernelspec": {
   "display_name": ".venv",
   "language": "python",
   "name": "python3"
  },
  "language_info": {
   "codemirror_mode": {
    "name": "ipython",
    "version": 3
   },
   "file_extension": ".py",
   "mimetype": "text/x-python",
   "name": "python",
   "nbconvert_exporter": "python",
   "pygments_lexer": "ipython3",
   "version": "3.11.14"
  }
 },
 "nbformat": 4,
 "nbformat_minor": 5
}
